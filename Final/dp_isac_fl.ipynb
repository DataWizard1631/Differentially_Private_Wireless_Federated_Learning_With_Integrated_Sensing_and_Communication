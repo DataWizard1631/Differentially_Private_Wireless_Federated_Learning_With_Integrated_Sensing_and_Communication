{
 "cells": [
  {
   "cell_type": "markdown",
   "id": "b5c8aa98",
   "metadata": {},
   "source": [
    "### Imports"
   ]
  },
  {
   "cell_type": "code",
   "execution_count": null,
   "id": "2e365c65",
   "metadata": {},
   "outputs": [],
   "source": [
    "\n",
    "import torch\n",
    "import torch.nn as nn\n",
    "import torch.optim as optim\n",
    "from torch.utils.data import DataLoader, Subset\n",
    "from torchvision import datasets, transforms\n",
    "import numpy as np\n",
    "from tqdm import trange"
   ]
  },
  {
   "cell_type": "markdown",
   "id": "8f6319a0",
   "metadata": {},
   "source": [
    "### Import Modules"
   ]
  },
  {
   "cell_type": "code",
   "execution_count": null,
   "id": "262588b2",
   "metadata": {},
   "outputs": [],
   "source": [
    "from models.mlp import SimpleMLP\n",
    "from models.cnn import SimpleCNN\n",
    "from utils.sensing import simulate_sensing\n",
    "from utils.dp_utils import clip_model, add_dp_noise\n",
    "from utils.uplink_solver import solve_uplink_SCA\n",
    "from utils.plotting import plot_results"
   ]
  }
 ],
 "metadata": {
  "kernelspec": {
   "display_name": ".venv",
   "language": "python",
   "name": "python3"
  },
  "language_info": {
   "name": "python",
   "version": "3.13.2"
  }
 },
 "nbformat": 4,
 "nbformat_minor": 5
}
